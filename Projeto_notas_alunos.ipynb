{
 "cells": [
  {
   "cell_type": "markdown",
   "id": "e163a8fd",
   "metadata": {},
   "source": [
    "# Projeto de notas de alunos com o método apply()"
   ]
  },
  {
   "cell_type": "code",
   "execution_count": 1,
   "id": "4d3f3d18",
   "metadata": {},
   "outputs": [],
   "source": [
    "# Importando bibliotecas\n",
    "\n",
    "import pandas as pd"
   ]
  },
  {
   "cell_type": "code",
   "execution_count": 2,
   "id": "6e8e0521",
   "metadata": {},
   "outputs": [],
   "source": [
    "# Criando dados dos alunos\n",
    "\n",
    "dados_alunos = {'Nomes':['Alice', 'Alan', 'Carol', 'Anelise', 'Evelyn', 'Davi'],\n",
    "                'Matematica':[90, 85, 70, 60, 100, 98],\n",
    "                'Ciencias':[20, 50, 70, 90, 100, 98],\n",
    "                'Portugues':[90, 50, 70, 77, 30, 100]}"
   ]
  },
  {
   "cell_type": "code",
   "execution_count": 3,
   "id": "531e8bd1",
   "metadata": {},
   "outputs": [
    {
     "data": {
      "text/plain": [
       "{'Nomes': ['Alice', 'Alan', 'Carol', 'Anelise', 'Evelyn', 'Davi'],\n",
       " 'Matematica': [90, 85, 70, 60, 100, 98],\n",
       " 'Ciencias': [20, 50, 70, 90, 100, 98],\n",
       " 'Portugues': [90, 50, 70, 77, 30, 100]}"
      ]
     },
     "execution_count": 3,
     "metadata": {},
     "output_type": "execute_result"
    }
   ],
   "source": [
    "dados_alunos"
   ]
  },
  {
   "cell_type": "code",
   "execution_count": 4,
   "id": "20c07a51",
   "metadata": {},
   "outputs": [],
   "source": [
    "df_notas = pd.DataFrame(dados_alunos)"
   ]
  },
  {
   "cell_type": "code",
   "execution_count": 5,
   "id": "09613d1c",
   "metadata": {},
   "outputs": [
    {
     "data": {
      "text/html": [
       "<div>\n",
       "<style scoped>\n",
       "    .dataframe tbody tr th:only-of-type {\n",
       "        vertical-align: middle;\n",
       "    }\n",
       "\n",
       "    .dataframe tbody tr th {\n",
       "        vertical-align: top;\n",
       "    }\n",
       "\n",
       "    .dataframe thead th {\n",
       "        text-align: right;\n",
       "    }\n",
       "</style>\n",
       "<table border=\"1\" class=\"dataframe\">\n",
       "  <thead>\n",
       "    <tr style=\"text-align: right;\">\n",
       "      <th></th>\n",
       "      <th>Nomes</th>\n",
       "      <th>Matematica</th>\n",
       "      <th>Ciencias</th>\n",
       "      <th>Portugues</th>\n",
       "    </tr>\n",
       "  </thead>\n",
       "  <tbody>\n",
       "    <tr>\n",
       "      <th>0</th>\n",
       "      <td>Alice</td>\n",
       "      <td>90</td>\n",
       "      <td>20</td>\n",
       "      <td>90</td>\n",
       "    </tr>\n",
       "    <tr>\n",
       "      <th>1</th>\n",
       "      <td>Alan</td>\n",
       "      <td>85</td>\n",
       "      <td>50</td>\n",
       "      <td>50</td>\n",
       "    </tr>\n",
       "    <tr>\n",
       "      <th>2</th>\n",
       "      <td>Carol</td>\n",
       "      <td>70</td>\n",
       "      <td>70</td>\n",
       "      <td>70</td>\n",
       "    </tr>\n",
       "    <tr>\n",
       "      <th>3</th>\n",
       "      <td>Anelise</td>\n",
       "      <td>60</td>\n",
       "      <td>90</td>\n",
       "      <td>77</td>\n",
       "    </tr>\n",
       "    <tr>\n",
       "      <th>4</th>\n",
       "      <td>Evelyn</td>\n",
       "      <td>100</td>\n",
       "      <td>100</td>\n",
       "      <td>30</td>\n",
       "    </tr>\n",
       "    <tr>\n",
       "      <th>5</th>\n",
       "      <td>Davi</td>\n",
       "      <td>98</td>\n",
       "      <td>98</td>\n",
       "      <td>100</td>\n",
       "    </tr>\n",
       "  </tbody>\n",
       "</table>\n",
       "</div>"
      ],
      "text/plain": [
       "     Nomes  Matematica  Ciencias  Portugues\n",
       "0    Alice          90        20         90\n",
       "1     Alan          85        50         50\n",
       "2    Carol          70        70         70\n",
       "3  Anelise          60        90         77\n",
       "4   Evelyn         100       100         30\n",
       "5     Davi          98        98        100"
      ]
     },
     "execution_count": 5,
     "metadata": {},
     "output_type": "execute_result"
    }
   ],
   "source": [
    "df_notas"
   ]
  },
  {
   "cell_type": "code",
   "execution_count": 6,
   "id": "809bb67b",
   "metadata": {},
   "outputs": [],
   "source": [
    "# Definir função para gerar a media das notas\n",
    "\n",
    "def calculo_media(linha):\n",
    "    return linha[['Matematica','Ciencias', 'Portugues']].mean()"
   ]
  },
  {
   "cell_type": "code",
   "execution_count": 7,
   "id": "d7899672",
   "metadata": {},
   "outputs": [],
   "source": [
    "# Criando uma coluna\n",
    "# O parâmetro axis=1 é essencial aqui porque indica que a função deve ser aplicada ao longo das colunas, ou seja,\n",
    "# para cada linha do DataFrame. Se você usasse axis=0, a função seria aplicada a cada coluna, o que não é o caso comum\n",
    "# quando você está calculando algo com base nos valores em várias colunas para cada linha.\n",
    "\n",
    "df_notas['Media'] = df_notas.apply(calculo_media, axis = 1)"
   ]
  },
  {
   "cell_type": "code",
   "execution_count": 8,
   "id": "bef5b9a1",
   "metadata": {},
   "outputs": [
    {
     "data": {
      "text/html": [
       "<div>\n",
       "<style scoped>\n",
       "    .dataframe tbody tr th:only-of-type {\n",
       "        vertical-align: middle;\n",
       "    }\n",
       "\n",
       "    .dataframe tbody tr th {\n",
       "        vertical-align: top;\n",
       "    }\n",
       "\n",
       "    .dataframe thead th {\n",
       "        text-align: right;\n",
       "    }\n",
       "</style>\n",
       "<table border=\"1\" class=\"dataframe\">\n",
       "  <thead>\n",
       "    <tr style=\"text-align: right;\">\n",
       "      <th></th>\n",
       "      <th>Nomes</th>\n",
       "      <th>Matematica</th>\n",
       "      <th>Ciencias</th>\n",
       "      <th>Portugues</th>\n",
       "      <th>Media</th>\n",
       "    </tr>\n",
       "  </thead>\n",
       "  <tbody>\n",
       "    <tr>\n",
       "      <th>0</th>\n",
       "      <td>Alice</td>\n",
       "      <td>90</td>\n",
       "      <td>20</td>\n",
       "      <td>90</td>\n",
       "      <td>66.666667</td>\n",
       "    </tr>\n",
       "    <tr>\n",
       "      <th>1</th>\n",
       "      <td>Alan</td>\n",
       "      <td>85</td>\n",
       "      <td>50</td>\n",
       "      <td>50</td>\n",
       "      <td>61.666667</td>\n",
       "    </tr>\n",
       "    <tr>\n",
       "      <th>2</th>\n",
       "      <td>Carol</td>\n",
       "      <td>70</td>\n",
       "      <td>70</td>\n",
       "      <td>70</td>\n",
       "      <td>70.000000</td>\n",
       "    </tr>\n",
       "    <tr>\n",
       "      <th>3</th>\n",
       "      <td>Anelise</td>\n",
       "      <td>60</td>\n",
       "      <td>90</td>\n",
       "      <td>77</td>\n",
       "      <td>75.666667</td>\n",
       "    </tr>\n",
       "    <tr>\n",
       "      <th>4</th>\n",
       "      <td>Evelyn</td>\n",
       "      <td>100</td>\n",
       "      <td>100</td>\n",
       "      <td>30</td>\n",
       "      <td>76.666667</td>\n",
       "    </tr>\n",
       "    <tr>\n",
       "      <th>5</th>\n",
       "      <td>Davi</td>\n",
       "      <td>98</td>\n",
       "      <td>98</td>\n",
       "      <td>100</td>\n",
       "      <td>98.666667</td>\n",
       "    </tr>\n",
       "  </tbody>\n",
       "</table>\n",
       "</div>"
      ],
      "text/plain": [
       "     Nomes  Matematica  Ciencias  Portugues      Media\n",
       "0    Alice          90        20         90  66.666667\n",
       "1     Alan          85        50         50  61.666667\n",
       "2    Carol          70        70         70  70.000000\n",
       "3  Anelise          60        90         77  75.666667\n",
       "4   Evelyn         100       100         30  76.666667\n",
       "5     Davi          98        98        100  98.666667"
      ]
     },
     "execution_count": 8,
     "metadata": {},
     "output_type": "execute_result"
    }
   ],
   "source": [
    "df_notas"
   ]
  },
  {
   "cell_type": "code",
   "execution_count": null,
   "id": "d6e941e4",
   "metadata": {},
   "outputs": [],
   "source": []
  },
  {
   "cell_type": "code",
   "execution_count": null,
   "id": "c33486f9",
   "metadata": {},
   "outputs": [],
   "source": []
  }
 ],
 "metadata": {
  "kernelspec": {
   "display_name": "Python 3 (ipykernel)",
   "language": "python",
   "name": "python3"
  },
  "language_info": {
   "codemirror_mode": {
    "name": "ipython",
    "version": 3
   },
   "file_extension": ".py",
   "mimetype": "text/x-python",
   "name": "python",
   "nbconvert_exporter": "python",
   "pygments_lexer": "ipython3",
   "version": "3.9.18"
  }
 },
 "nbformat": 4,
 "nbformat_minor": 5
}
